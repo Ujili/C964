{
 "cells": [
  {
   "cell_type": "code",
   "execution_count": 1,
   "id": "08081593",
   "metadata": {},
   "outputs": [],
   "source": [
    "import torch\n",
    "import torch.nn as nn\n",
    "import torch.nn.functional as Func\n",
    "from torch.utils.data import DataLoader\n",
    "from torchvision import datasets, transforms, models\n",
    "from torchvision.utils import make_grid\n",
    "import numpy as np\n",
    "import pandas as pd\n",
    "import matplotlib.pyplot as plot \n",
    "import os\n",
    "from PIL import Image\n",
    "from IPython.display import display\n",
    "\n",
    "import warnings\n",
    "warnings.filterwarnings('ignore')"
   ]
  },
  {
   "cell_type": "code",
   "execution_count": 2,
   "id": "ea5a9432",
   "metadata": {},
   "outputs": [],
   "source": [
    "training_transform = transforms.Compose([\n",
    "    transforms.RandomHorizontalFlip(),\n",
    "    transforms.RandomRotation(15),\n",
    "    transforms.Resize(180),\n",
    "    transforms.CenterCrop(180),\n",
    "    transforms.ToTensor(),\n",
    "    transforms.Normalize([0.485, 0.456, 0.406],[0.229, 0.224, 0.225]) #These are the commonly used ImageNet values\n",
    "])\n",
    "\n",
    "testing_transform = transforms.Compose([\n",
    "    transforms.Resize(180),\n",
    "    transforms.CenterCrop(180),\n",
    "    transforms.ToTensor(),\n",
    "    transforms.Normalize([0.485, 0.456, 0.406],[0.229, 0.224, 0.225]) \n",
    "])"
   ]
  },
  {
   "cell_type": "code",
   "execution_count": 3,
   "id": "3c22d70f",
   "metadata": {},
   "outputs": [],
   "source": [
    "path = 'Data/'\n",
    "training_data = datasets.ImageFolder(str(path+'train'),transform=training_transform)\n",
    "testing_data = datasets.ImageFolder(str(path+'test'),transform=testing_transform)\n",
    "\n",
    "torch.manual_seed(13)\n",
    "training_loader = DataLoader(training_data,batch_size=10,shuffle=True)\n",
    "testing_loader = DataLoader(testing_data,batch_size=10)\n",
    "\n",
    "class_names = training_data.classes"
   ]
  },
  {
   "cell_type": "code",
   "execution_count": 4,
   "id": "e7feb04f",
   "metadata": {},
   "outputs": [
    {
     "name": "stdout",
     "output_type": "stream",
     "text": [
      "['barrel_jellyfish', 'blue_jellyfish', 'compass_jellyfish', 'lions_mane_jellyfish', 'mauve_stinger_jellyfish', 'moon_jellyfish']\n"
     ]
    }
   ],
   "source": [
    "print(class_names)"
   ]
  },
  {
   "cell_type": "code",
   "execution_count": 6,
   "id": "80aabb5a",
   "metadata": {},
   "outputs": [
    {
     "name": "stdout",
     "output_type": "stream",
     "text": [
      "Training Data:  900\n",
      "Testing Data:  40\n"
     ]
    }
   ],
   "source": [
    "print('Training Data: ',len(training_data))\n",
    "print('Testing Data: ',len(testing_data))"
   ]
  },
  {
   "cell_type": "code",
   "execution_count": 7,
   "id": "3a7dccd5",
   "metadata": {},
   "outputs": [],
   "source": [
    "class ConvolutionalNetwork(nn.Module):\n",
    "    \n",
    "    def __init__(self):\n",
    "        \n",
    "        super().__init__()\n",
    "        self.conv1 = nn.Conv2d(3,6,3,1)\n",
    "        self.conv2 = nn.Conv2d(6,16,3,1)\n",
    "        self.fc1 = nn.Linear(43*43*16,120)\n",
    "        self.fc2 = nn.Linear(120,84)\n",
    "        self.fc3 = nn.Linear(84,6)\n",
    "        \n",
    "    def forward(self, X):\n",
    "        X = Func.relu(self.conv1(X))\n",
    "        X = Func.max_pool2d(X,2,2)\n",
    "        X = Func.relu(self.conv2(X))\n",
    "        X = Func.max_pool2d(X,2,2)\n",
    "        X = X.view(-1,43*43*16)\n",
    "        X = Func.relu(self.fc1(X))\n",
    "        X = Func.relu(self.fc2(X))\n",
    "        X = self.fc3(X)\n",
    "        \n",
    "        return Func.log_softmax(X,dim=1)"
   ]
  },
  {
   "cell_type": "code",
   "execution_count": 8,
   "id": "19d2074f",
   "metadata": {},
   "outputs": [],
   "source": [
    "torch.manual_seed(13)\n",
    "CNNmodel = ConvolutionalNetwork()\n",
    "criterion = nn.CrossEntropyLoss()\n",
    "optimizer = torch.optim.Adam(CNNmodel.parameters(),lr=0.00005)"
   ]
  },
  {
   "cell_type": "code",
   "execution_count": 9,
   "id": "f98d4df7",
   "metadata": {},
   "outputs": [
    {
     "data": {
      "text/plain": [
       "ConvolutionalNetwork(\n",
       "  (conv1): Conv2d(3, 6, kernel_size=(3, 3), stride=(1, 1))\n",
       "  (conv2): Conv2d(6, 16, kernel_size=(3, 3), stride=(1, 1))\n",
       "  (fc1): Linear(in_features=29584, out_features=120, bias=True)\n",
       "  (fc2): Linear(in_features=120, out_features=84, bias=True)\n",
       "  (fc3): Linear(in_features=84, out_features=6, bias=True)\n",
       ")"
      ]
     },
     "execution_count": 9,
     "metadata": {},
     "output_type": "execute_result"
    }
   ],
   "source": [
    "CNNmodel"
   ]
  },
  {
   "cell_type": "code",
   "execution_count": 16,
   "id": "bd8b0179",
   "metadata": {},
   "outputs": [
    {
     "name": "stdout",
     "output_type": "stream",
     "text": [
      "Epoch 0 LOSS: 1.2465614080429077\n",
      "Epoch 0 LOSS: 1.0231850147247314\n",
      "Epoch 0 LOSS: 1.1138523817062378\n",
      "Epoch 0 LOSS: 0.8234699964523315\n",
      "Epoch 1 LOSS: 0.6281180381774902\n",
      "Epoch 1 LOSS: 0.9776129722595215\n",
      "Epoch 1 LOSS: 1.041824221611023\n",
      "Epoch 1 LOSS: 0.9389379620552063\n",
      "Epoch 2 LOSS: 0.6995431780815125\n",
      "Epoch 2 LOSS: 0.570053219795227\n",
      "Epoch 2 LOSS: 0.778610348701477\n",
      "Epoch 2 LOSS: 0.6369116306304932\n",
      "Epoch 3 LOSS: 0.9067428708076477\n",
      "Epoch 3 LOSS: 0.9059064984321594\n",
      "Epoch 3 LOSS: 0.5900046825408936\n",
      "Epoch 3 LOSS: 0.8239524960517883\n",
      "Epoch 4 LOSS: 1.0311119556427002\n",
      "Epoch 4 LOSS: 0.7561290264129639\n",
      "Epoch 4 LOSS: 0.8839741945266724\n",
      "Epoch 4 LOSS: 0.703273594379425\n",
      "Total time: 0.40283884207407633 minutes\n"
     ]
    }
   ],
   "source": [
    "import time\n",
    "start_time = time.time()\n",
    "\n",
    "epochs = 5\n",
    "\n",
    "\n",
    "train_losses = []\n",
    "test_losses = []\n",
    "train_correct = []\n",
    "test_correct = []\n",
    "\n",
    "for i in range(epochs):\n",
    "    \n",
    "    trn_corr = 0\n",
    "    tst_corr = 0\n",
    "    \n",
    "    for b, (X_train,y_train) in enumerate(training_loader): #b is batches\n",
    "        \n",
    "        b+=1\n",
    "        \n",
    "        y_pred = CNNmodel(X_train)\n",
    "        loss = criterion(y_pred, y_train)\n",
    "        \n",
    "        #Tally the number of correct predictions\n",
    "        predicted = torch.max(y_pred.data, 1)[1]\n",
    "        batch_corr = (predicted == y_train).sum()\n",
    "        trn_corr += batch_corr\n",
    "        \n",
    "        # Update Parameters\n",
    "        optimizer.zero_grad()\n",
    "        loss.backward()\n",
    "        optimizer.step()\n",
    "        \n",
    "        if b%20 == 0:\n",
    "            print(f'Epoch {i} LOSS: {loss.item()}')\n",
    "            \n",
    "    train_losses.append(loss)\n",
    "    train_correct.append(trn_corr)\n",
    "    \n",
    "    # TEST SET!\n",
    "    with torch.no_grad():\n",
    "        for b,(X_test,y_test) in enumerate(testing_loader):\n",
    "            \n",
    "            y_val = CNNmodel(X_test)\n",
    "            \n",
    "            predicted = torch.max(y_val.data, 1)[1]\n",
    "            tst_corr += (predicted == y_test).sum()\n",
    "            \n",
    "    loss = criterion(y_val,y_test)\n",
    "    test_losses.append(loss)\n",
    "    test_correct.append(tst_corr)\n",
    "\n",
    "total_time = time.time() - start_time\n",
    "print(f'Total time: {total_time/60} minutes')"
   ]
  },
  {
   "cell_type": "code",
   "execution_count": null,
   "id": "cf4c6fab",
   "metadata": {},
   "outputs": [],
   "source": []
  }
 ],
 "metadata": {
  "kernelspec": {
   "display_name": "Python 3 (ipykernel)",
   "language": "python",
   "name": "python3"
  },
  "language_info": {
   "codemirror_mode": {
    "name": "ipython",
    "version": 3
   },
   "file_extension": ".py",
   "mimetype": "text/x-python",
   "name": "python",
   "nbconvert_exporter": "python",
   "pygments_lexer": "ipython3",
   "version": "3.11.5"
  }
 },
 "nbformat": 4,
 "nbformat_minor": 5
}
